{
 "cells": [
  {
   "cell_type": "code",
   "execution_count": null,
   "id": "508c515d",
   "metadata": {},
   "outputs": [
    {
     "name": "stderr",
     "output_type": "stream",
     "text": [
      "<>:7: SyntaxWarning: invalid escape sequence '\\F'\n",
      "<>:7: SyntaxWarning: invalid escape sequence '\\F'\n",
      "C:\\Users\\Admin\\AppData\\Local\\Temp\\ipykernel_17892\\3337672500.py:7: SyntaxWarning: invalid escape sequence '\\F'\n",
      "  df = pd.read_csv('C:\\\\Users\\\\Admin\\\\Documents\\\\Python Scripts\\\\ds_learning\\\\ds_second_phase\\Files\\\\weekly-closings-of-the-dowjones-.csv', names=[\"week\", \"count\"], header=0)\n"
     ]
    }
   ],
   "source": [
    "import pandas as pd\n",
    "import matplotlib.pyplot as plt\n",
    "from datetime import datetime"
   ]
  },
  {
   "cell_type": "markdown",
   "id": "d505c376",
   "metadata": {},
   "source": [
    "## 1"
   ]
  },
  {
   "cell_type": "code",
   "execution_count": null,
   "id": "1da46476",
   "metadata": {},
   "outputs": [],
   "source": [
    "df = pd.read_csv('C:\\\\Users\\\\Admin\\\\Documents\\\\Python Scripts\\\\ds_learning\\\\ds_second_phase\\Files\\\\weekly-closings-of-the-dowjones-.csv', names=[\"week\", \"count\"], header=0)\n"
   ]
  },
  {
   "cell_type": "code",
   "execution_count": null,
   "id": "eebefd4a",
   "metadata": {},
   "outputs": [],
   "source": [
    "def iso_to_date(isoweek_str):\n",
    "    try:\n",
    "        year, week = isoweek_str.split('-W')\n",
    "        return datetime.fromisocalendar(int(year), int(week), 1) \n",
    "    except Exception as e:\n",
    "        print(f\"Ошибка для {isoweek_str}: {e}\")\n",
    "        return pd.NaT\n",
    "    \n",
    "df['week'] = df['week'].apply(iso_to_date)\n",
    "df = df.dropna(subset=['week'])"
   ]
  },
  {
   "cell_type": "code",
   "execution_count": 24,
   "id": "36886f4d",
   "metadata": {},
   "outputs": [],
   "source": [
    "df = df.sort_values('week').set_index('week')"
   ]
  },
  {
   "cell_type": "code",
   "execution_count": 25,
   "id": "43a21c1d",
   "metadata": {},
   "outputs": [
    {
     "data": {
      "text/html": [
       "<div>\n",
       "<style scoped>\n",
       "    .dataframe tbody tr th:only-of-type {\n",
       "        vertical-align: middle;\n",
       "    }\n",
       "\n",
       "    .dataframe tbody tr th {\n",
       "        vertical-align: top;\n",
       "    }\n",
       "\n",
       "    .dataframe thead th {\n",
       "        text-align: right;\n",
       "    }\n",
       "</style>\n",
       "<table border=\"1\" class=\"dataframe\">\n",
       "  <thead>\n",
       "    <tr style=\"text-align: right;\">\n",
       "      <th></th>\n",
       "      <th>count</th>\n",
       "    </tr>\n",
       "    <tr>\n",
       "      <th>week</th>\n",
       "      <th></th>\n",
       "    </tr>\n",
       "  </thead>\n",
       "  <tbody>\n",
       "    <tr>\n",
       "      <th>1971-07-05</th>\n",
       "      <td>890.19</td>\n",
       "    </tr>\n",
       "    <tr>\n",
       "      <th>1971-07-12</th>\n",
       "      <td>901.80</td>\n",
       "    </tr>\n",
       "    <tr>\n",
       "      <th>1971-07-19</th>\n",
       "      <td>888.51</td>\n",
       "    </tr>\n",
       "    <tr>\n",
       "      <th>1971-07-26</th>\n",
       "      <td>887.78</td>\n",
       "    </tr>\n",
       "    <tr>\n",
       "      <th>1971-08-02</th>\n",
       "      <td>858.43</td>\n",
       "    </tr>\n",
       "    <tr>\n",
       "      <th>...</th>\n",
       "      <td>...</td>\n",
       "    </tr>\n",
       "    <tr>\n",
       "      <th>1974-07-08</th>\n",
       "      <td>791.77</td>\n",
       "    </tr>\n",
       "    <tr>\n",
       "      <th>1974-07-15</th>\n",
       "      <td>787.23</td>\n",
       "    </tr>\n",
       "    <tr>\n",
       "      <th>1974-07-22</th>\n",
       "      <td>787.94</td>\n",
       "    </tr>\n",
       "    <tr>\n",
       "      <th>1974-07-29</th>\n",
       "      <td>784.57</td>\n",
       "    </tr>\n",
       "    <tr>\n",
       "      <th>1974-08-05</th>\n",
       "      <td>752.58</td>\n",
       "    </tr>\n",
       "  </tbody>\n",
       "</table>\n",
       "<p>162 rows × 1 columns</p>\n",
       "</div>"
      ],
      "text/plain": [
       "             count\n",
       "week              \n",
       "1971-07-05  890.19\n",
       "1971-07-12  901.80\n",
       "1971-07-19  888.51\n",
       "1971-07-26  887.78\n",
       "1971-08-02  858.43\n",
       "...            ...\n",
       "1974-07-08  791.77\n",
       "1974-07-15  787.23\n",
       "1974-07-22  787.94\n",
       "1974-07-29  784.57\n",
       "1974-08-05  752.58\n",
       "\n",
       "[162 rows x 1 columns]"
      ]
     },
     "execution_count": 25,
     "metadata": {},
     "output_type": "execute_result"
    }
   ],
   "source": [
    "df"
   ]
  },
  {
   "cell_type": "code",
   "execution_count": 34,
   "id": "bb47cafe",
   "metadata": {},
   "outputs": [],
   "source": [
    "from statsmodels.tsa.stattools import adfuller\n",
    "\n",
    "# result = adfuller(df['count'])\n",
    "# print(\"ADF Statistic:\", result[0])\n",
    "# print(\"p-value:\", result[1])\n",
    "\n",
    "def check_stationarity(series):\n",
    "    result = adfuller(series.dropna())\n",
    "    print('ADF Statistic:', result[0])\n",
    "    print('p-value:', result[1])\n",
    "    print('Critical Values:', result[4])\n",
    "    if result[1] < 0.05:\n",
    "        print(\"Ряд стационарен\")\n",
    "    else:\n",
    "        print(\"Ряд нестационарен\")"
   ]
  },
  {
   "cell_type": "code",
   "execution_count": 35,
   "id": "8c1901cd",
   "metadata": {},
   "outputs": [
    {
     "name": "stdout",
     "output_type": "stream",
     "text": [
      "ADF Statistic: -1.3146254984911718\n",
      "p-value: 0.6224548515589717\n",
      "Critical Values: {'1%': -3.471633386932248, '5%': -2.8796651107461972, '10%': -2.576433647235832}\n",
      "Ряд нестационарен\n"
     ]
    }
   ],
   "source": [
    "check_stationarity(df['count'])"
   ]
  },
  {
   "cell_type": "code",
   "execution_count": 27,
   "id": "73e42fc0",
   "metadata": {},
   "outputs": [
    {
     "name": "stdout",
     "output_type": "stream",
     "text": [
      "ADF после преобразования: -12.995820716080097\n",
      "p-value: 2.7516091322913837e-24\n"
     ]
    }
   ],
   "source": [
    "import numpy as np\n",
    "\n",
    "df['log_count'] = np.log(df['count'])\n",
    "df['diff_log_count'] = df['log_count'].diff()\n",
    "\n",
    "result = adfuller(df['diff_log_count'].dropna())\n",
    "print(\"ADF после преобразования:\", result[0])\n",
    "print(\"p-value:\", result[1])"
   ]
  },
  {
   "cell_type": "markdown",
   "id": "d31304d3",
   "metadata": {},
   "source": [
    "## 2"
   ]
  },
  {
   "cell_type": "code",
   "execution_count": 29,
   "id": "0e3143c4",
   "metadata": {},
   "outputs": [],
   "source": [
    "df1 = pd.read_csv('ds_learning\\\\ds_second_phase\\\\Files\\\\monthly-sales-of-company-x-jan-6.csv', names=[\"Month\",\"Count\"], header=0)\n"
   ]
  },
  {
   "cell_type": "code",
   "execution_count": 31,
   "id": "3b27cdf7",
   "metadata": {},
   "outputs": [],
   "source": [
    "df1[\"date\"] = pd.to_datetime(df1[\"Month\"].str.replace('\"', ''), format='%Y-%m')\n",
    "\n",
    "df1.set_index(\"date\", inplace=True)\n",
    "df1.drop(\"Month\", axis=1, inplace=True)"
   ]
  },
  {
   "cell_type": "code",
   "execution_count": 36,
   "id": "77999179",
   "metadata": {},
   "outputs": [
    {
     "name": "stdout",
     "output_type": "stream",
     "text": [
      "ADF Statistic: 0.6547150829524443\n",
      "p-value: 0.9888894205170052\n",
      "Critical Values: {'1%': -3.53692771987915, '5%': -2.907887369384766, '10%': -2.591493291015625}\n",
      "Ряд нестационарен\n"
     ]
    }
   ],
   "source": [
    "check_stationarity(df1[\"Count\"])"
   ]
  },
  {
   "cell_type": "code",
   "execution_count": 38,
   "id": "bc135aa8",
   "metadata": {},
   "outputs": [
    {
     "name": "stdout",
     "output_type": "stream",
     "text": [
      "ADF Statistic: -3.1356438010066268\n",
      "p-value: 0.024025392839875787\n",
      "Critical Values: {'1%': -3.53692771987915, '5%': -2.907887369384766, '10%': -2.591493291015625}\n",
      "Ряд стационарен\n"
     ]
    }
   ],
   "source": [
    "df1['log_count'] = np.log(df1['Count'])\n",
    "df1['diff_log_count'] = df1['log_count'].diff()\n",
    "\n",
    "check_stationarity(df1['diff_log_count'])"
   ]
  },
  {
   "cell_type": "markdown",
   "id": "397fc304",
   "metadata": {},
   "source": [
    "## 3"
   ]
  },
  {
   "cell_type": "code",
   "execution_count": 55,
   "id": "07d6287f",
   "metadata": {},
   "outputs": [],
   "source": [
    "df2 = pd.read_csv('ds_learning\\\\ds_second_phase\\\\Files\\\\monthly-boston-armed-robberies-j.csv', names=[\"Month\",\"Count\"], header=0)"
   ]
  },
  {
   "cell_type": "code",
   "execution_count": 56,
   "id": "88a40b62",
   "metadata": {},
   "outputs": [],
   "source": [
    "df2[\"date\"] = pd.to_datetime(df2[\"Month\"].str.replace('\"', ''), format='%Y-%m')\n",
    "\n",
    "df2.set_index(\"date\", inplace=True)\n",
    "df2.drop(\"Month\", axis=1, inplace=True)"
   ]
  },
  {
   "cell_type": "code",
   "execution_count": 57,
   "id": "edd72446",
   "metadata": {},
   "outputs": [
    {
     "name": "stdout",
     "output_type": "stream",
     "text": [
      "ADF Statistic: 1.0011021402457787\n",
      "p-value: 0.994277563805723\n",
      "Critical Values: {'1%': -3.4936021509366793, '5%': -2.8892174239808703, '10%': -2.58153320754717}\n",
      "Ряд нестационарен\n"
     ]
    }
   ],
   "source": [
    "check_stationarity(df2[\"Count\"])"
   ]
  },
  {
   "cell_type": "code",
   "execution_count": 58,
   "id": "49e540bb",
   "metadata": {},
   "outputs": [
    {
     "name": "stdout",
     "output_type": "stream",
     "text": [
      "ADF Statistic: -7.601792127269039\n",
      "p-value: 2.3786024417438203e-11\n",
      "Critical Values: {'1%': -3.489589552580676, '5%': -2.887477210140433, '10%': -2.580604145195395}\n",
      "Ряд стационарен\n"
     ]
    }
   ],
   "source": [
    "df2['log_count'] = np.log(df2['Count'])\n",
    "df2['diff_log_count'] = df2['log_count'].diff()\n",
    "\n",
    "check_stationarity(df2['diff_log_count'])"
   ]
  },
  {
   "cell_type": "markdown",
   "id": "8c12f82c",
   "metadata": {},
   "source": [
    "## 4"
   ]
  },
  {
   "cell_type": "code",
   "execution_count": 68,
   "id": "03e366a2",
   "metadata": {},
   "outputs": [],
   "source": [
    "df3 = pd.read_csv('ds_learning\\\\ds_second_phase\\\\Files\\\\mean-monthly-air-temperature-deg.csv', names=[\"Month\",\"Deg\"], header=0)"
   ]
  },
  {
   "cell_type": "code",
   "execution_count": 69,
   "id": "89302ca7",
   "metadata": {},
   "outputs": [],
   "source": [
    "df3[\"date\"] = pd.to_datetime(df3[\"Month\"].str.replace('\"', ''), format='%Y-%m')\n",
    "\n",
    "df3.set_index(\"date\", inplace=True)\n",
    "df3.drop(\"Month\", axis=1, inplace=True)"
   ]
  },
  {
   "cell_type": "code",
   "execution_count": 70,
   "id": "f009f553",
   "metadata": {},
   "outputs": [
    {
     "name": "stdout",
     "output_type": "stream",
     "text": [
      "ADF Statistic: -3.2554924030863353\n",
      "p-value: 0.016989030222608687\n",
      "Critical Values: {'1%': -3.4597521044060353, '5%': -2.874472927517147, '10%': -2.5736628197530864}\n",
      "Ряд стационарен\n"
     ]
    }
   ],
   "source": [
    "check_stationarity(df3[\"Deg\"])"
   ]
  },
  {
   "cell_type": "markdown",
   "id": "9dda2521",
   "metadata": {},
   "source": [
    "## 5"
   ]
  },
  {
   "cell_type": "code",
   "execution_count": 71,
   "id": "6ef23c9d",
   "metadata": {},
   "outputs": [],
   "source": [
    "df4 = pd.read_csv('ds_learning\\\\ds_second_phase\\\\Files\\\\international-airline-passengers.csv', names=[\"Month\",\"Count\"], header=0)"
   ]
  },
  {
   "cell_type": "code",
   "execution_count": 72,
   "id": "39561149",
   "metadata": {},
   "outputs": [],
   "source": [
    "df4[\"date\"] = pd.to_datetime(df4[\"Month\"].str.replace('\"', ''), format='%Y-%m')\n",
    "\n",
    "df4.set_index(\"date\", inplace=True)\n",
    "df4.drop(\"Month\", axis=1, inplace=True)"
   ]
  },
  {
   "cell_type": "code",
   "execution_count": 73,
   "id": "2e37a45c",
   "metadata": {},
   "outputs": [
    {
     "name": "stdout",
     "output_type": "stream",
     "text": [
      "ADF Statistic: 0.8153688792060482\n",
      "p-value: 0.991880243437641\n",
      "Critical Values: {'1%': -3.4816817173418295, '5%': -2.8840418343195267, '10%': -2.578770059171598}\n",
      "Ряд нестационарен\n"
     ]
    }
   ],
   "source": [
    "check_stationarity(df4[\"Count\"])"
   ]
  },
  {
   "cell_type": "code",
   "execution_count": 74,
   "id": "2db7425d",
   "metadata": {},
   "outputs": [
    {
     "name": "stdout",
     "output_type": "stream",
     "text": [
      "ADF Statistic: -2.717130598388133\n",
      "p-value: 0.07112054815085875\n",
      "Critical Values: {'1%': -3.4825006939887997, '5%': -2.884397984161377, '10%': -2.578960197753906}\n",
      "Ряд нестационарен\n"
     ]
    }
   ],
   "source": [
    "df4['log_count'] = np.log(df4['Count'])\n",
    "df4['diff_log_count'] = df4['log_count'].diff()\n",
    "\n",
    "check_stationarity(df4['diff_log_count'])"
   ]
  },
  {
   "cell_type": "code",
   "execution_count": 75,
   "id": "617b77f2",
   "metadata": {},
   "outputs": [
    {
     "name": "stdout",
     "output_type": "stream",
     "text": [
      "ADF Statistic: -2.8292668241699994\n",
      "p-value: 0.0542132902838255\n",
      "Critical Values: {'1%': -3.4816817173418295, '5%': -2.8840418343195267, '10%': -2.578770059171598}\n",
      "Ряд нестационарен\n"
     ]
    }
   ],
   "source": [
    "df4[\"diff_1\"] = df4[\"Count\"].diff(1)\n",
    "check_stationarity(df4[\"diff_1\"].dropna())"
   ]
  },
  {
   "cell_type": "code",
   "execution_count": 76,
   "id": "02dc89b7",
   "metadata": {},
   "outputs": [
    {
     "name": "stdout",
     "output_type": "stream",
     "text": [
      "ADF Statistic: -3.383020726492481\n",
      "p-value: 0.011551493085514954\n",
      "Critical Values: {'1%': -3.4816817173418295, '5%': -2.8840418343195267, '10%': -2.578770059171598}\n",
      "Ряд стационарен\n"
     ]
    }
   ],
   "source": [
    "df4[\"seasonal_diff\"] = df4[\"Count\"].diff(12)\n",
    "check_stationarity(df4[\"seasonal_diff\"].dropna())"
   ]
  },
  {
   "cell_type": "markdown",
   "id": "754e8c0c",
   "metadata": {},
   "source": [
    "### 6"
   ]
  },
  {
   "cell_type": "code",
   "execution_count": 77,
   "id": "cb771342",
   "metadata": {},
   "outputs": [],
   "source": [
    "df5 = pd.read_csv('ds_learning\\\\ds_second_phase\\\\Files\\\\daily-total-female-births-in-cal.csv', names=[\"Date\",\"Count\"], header=0)"
   ]
  },
  {
   "cell_type": "code",
   "execution_count": 78,
   "id": "8d04c1ef",
   "metadata": {},
   "outputs": [
    {
     "name": "stdout",
     "output_type": "stream",
     "text": [
      "ADF Statistic: -4.808291253559763\n",
      "p-value: 5.243412990149865e-05\n",
      "Critical Values: {'1%': -3.448748905151901, '5%': -2.8696473721448728, '10%': -2.5710891239349585}\n",
      "Ряд стационарен\n"
     ]
    }
   ],
   "source": [
    "check_stationarity(df5[\"Count\"])"
   ]
  },
  {
   "cell_type": "code",
   "execution_count": null,
   "id": "93832d1c",
   "metadata": {},
   "outputs": [],
   "source": []
  }
 ],
 "metadata": {
  "kernelspec": {
   "display_name": "Python 3",
   "language": "python",
   "name": "python3"
  },
  "language_info": {
   "codemirror_mode": {
    "name": "ipython",
    "version": 3
   },
   "file_extension": ".py",
   "mimetype": "text/x-python",
   "name": "python",
   "nbconvert_exporter": "python",
   "pygments_lexer": "ipython3",
   "version": "3.12.1"
  }
 },
 "nbformat": 4,
 "nbformat_minor": 5
}
