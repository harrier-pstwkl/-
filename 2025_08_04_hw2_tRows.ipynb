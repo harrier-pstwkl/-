{
 "cells": [
  {
   "cell_type": "code",
   "execution_count": 8,
   "id": "8fdefc67",
   "metadata": {},
   "outputs": [],
   "source": [
    "import numpy as np\n",
    "import pandas as pd\n",
    "import matplotlib.pyplot as plt\n",
    "from datetime import datetime"
   ]
  },
  {
   "cell_type": "markdown",
   "id": "686c6c81",
   "metadata": {},
   "source": [
    "## 1 загрузка примера"
   ]
  },
  {
   "cell_type": "code",
   "execution_count": 3,
   "id": "cfc5d2ce",
   "metadata": {},
   "outputs": [],
   "source": [
    "df = pd.read_csv('ds_learning\\\\ds_second_phase\\\\Files\\\\monthly-boston-armed-robberies-j.csv', names=[\"Month\",\"Count\"], header=0)"
   ]
  },
  {
   "cell_type": "code",
   "execution_count": 4,
   "id": "0aecf57c",
   "metadata": {},
   "outputs": [],
   "source": [
    "df[\"date\"] = pd.to_datetime(df[\"Month\"].str.replace('\"', ''), format='%Y-%m')\n",
    "\n",
    "df.set_index(\"date\", inplace=True)\n",
    "df.drop(\"Month\", axis=1, inplace=True)"
   ]
  },
  {
   "cell_type": "code",
   "execution_count": 5,
   "id": "03bdf0be",
   "metadata": {},
   "outputs": [],
   "source": [
    "from statsmodels.tsa.stattools import adfuller\n",
    "result = adfuller(df['Count'])"
   ]
  },
  {
   "cell_type": "code",
   "execution_count": 6,
   "id": "afb175e7",
   "metadata": {},
   "outputs": [
    {
     "name": "stdout",
     "output_type": "stream",
     "text": [
      "ADF Statistic: 1.0011021402457787\n",
      "p-value: 0.994277563805723\n"
     ]
    }
   ],
   "source": [
    "print(\"ADF Statistic:\", result[0])\n",
    "print(\"p-value:\", result[1])"
   ]
  },
  {
   "cell_type": "code",
   "execution_count": 9,
   "id": "0002f5be",
   "metadata": {},
   "outputs": [
    {
     "name": "stdout",
     "output_type": "stream",
     "text": [
      "ADF после преобразования: -7.601792127269039\n",
      "p-value: 2.3786024417438203e-11\n"
     ]
    }
   ],
   "source": [
    "df['log_count'] = np.log(df['Count'])\n",
    "df['diff_log_count'] = df['log_count'].diff()\n",
    "\n",
    "result1 = adfuller(df['diff_log_count'].dropna())\n",
    "print(\"ADF после преобразования:\", result1[0])\n",
    "print(\"p-value:\", result1[1])"
   ]
  },
  {
   "cell_type": "code",
   "execution_count": 11,
   "id": "ca9986f8",
   "metadata": {},
   "outputs": [
    {
     "data": {
      "text/html": [
       "<div>\n",
       "<style scoped>\n",
       "    .dataframe tbody tr th:only-of-type {\n",
       "        vertical-align: middle;\n",
       "    }\n",
       "\n",
       "    .dataframe tbody tr th {\n",
       "        vertical-align: top;\n",
       "    }\n",
       "\n",
       "    .dataframe thead th {\n",
       "        text-align: right;\n",
       "    }\n",
       "</style>\n",
       "<table border=\"1\" class=\"dataframe\">\n",
       "  <thead>\n",
       "    <tr style=\"text-align: right;\">\n",
       "      <th></th>\n",
       "      <th>Count</th>\n",
       "      <th>log_count</th>\n",
       "      <th>diff_log_count</th>\n",
       "    </tr>\n",
       "    <tr>\n",
       "      <th>date</th>\n",
       "      <th></th>\n",
       "      <th></th>\n",
       "      <th></th>\n",
       "    </tr>\n",
       "  </thead>\n",
       "  <tbody>\n",
       "    <tr>\n",
       "      <th>1966-01-01</th>\n",
       "      <td>41</td>\n",
       "      <td>3.713572</td>\n",
       "      <td>NaN</td>\n",
       "    </tr>\n",
       "    <tr>\n",
       "      <th>1966-02-01</th>\n",
       "      <td>39</td>\n",
       "      <td>3.663562</td>\n",
       "      <td>-0.05001</td>\n",
       "    </tr>\n",
       "  </tbody>\n",
       "</table>\n",
       "</div>"
      ],
      "text/plain": [
       "            Count  log_count  diff_log_count\n",
       "date                                        \n",
       "1966-01-01     41   3.713572             NaN\n",
       "1966-02-01     39   3.663562        -0.05001"
      ]
     },
     "execution_count": 11,
     "metadata": {},
     "output_type": "execute_result"
    }
   ],
   "source": [
    "df.head(2)"
   ]
  },
  {
   "cell_type": "markdown",
   "id": "6c9bdcfd",
   "metadata": {},
   "source": [
    "## 2 реализация МА для нестационарного и стационарного рядов"
   ]
  },
  {
   "cell_type": "code",
   "execution_count": 12,
   "id": "bac6a883",
   "metadata": {},
   "outputs": [],
   "source": [
    "from statsmodels.tsa.arima.model import ARIMA\n",
    "from statsmodels.graphics.tsaplots import plot_acf, plot_pacf"
   ]
  },
  {
   "cell_type": "code",
   "execution_count": null,
   "id": "4ade94f6",
   "metadata": {},
   "outputs": [
    {
     "data": {
      "image/png": "[encoded data removed]",
      "text/plain": [
       "<Figure size 640x480 with 1 Axes>"
      ]
     },
     "metadata": {},
     "output_type": "display_data"
    },
    {
     "name": "stdout",
     "output_type": "stream",
     "text": [
      "                               SARIMAX Results                                \n",
      "==============================================================================\n",
      "Dep. Variable:                  Count   No. Observations:                  118\n",
      "Model:                 ARIMA(0, 0, 1)   Log Likelihood                -682.220\n",
      "Date:                Mon, 04 Aug 2025   AIC                           1370.440\n",
      "Time:                        15:35:40   BIC                           1378.752\n",
      "Sample:                    01-01-1966   HQIC                          1373.815\n",
      "                         - 10-01-1975                                         \n",
      "Covariance Type:                  opg                                         \n",
      "==============================================================================\n",
      "                 coef    std err          z      P>|z|      [0.025      0.975]\n",
      "------------------------------------------------------------------------------\n",
      "const        196.5688     15.067     13.046      0.000     167.038     226.099\n",
      "ma.L1          0.8285      0.048     17.409      0.000       0.735       0.922\n",
      "sigma2      6095.8314    921.027      6.619      0.000    4290.651    7901.012\n",
      "===================================================================================\n",
      "Ljung-Box (L1) (Q):                  42.89   Jarque-Bera (JB):                10.72\n",
      "Prob(Q):                              0.00   Prob(JB):                         0.00\n",
      "Heteroskedasticity (H):               1.88   Skew:                             0.74\n",
      "Prob(H) (two-sided):                  0.05   Kurtosis:                         3.11\n",
      "===================================================================================\n",
      "\n",
      "Warnings:\n",
      "[1] Covariance matrix calculated using the outer product of gradients (complex-step).\n",
      "Прогноз Count (MA1): 289.78\n"
     ]
    },
    {
     "name": "stderr",
     "output_type": "stream",
     "text": [
      "c:\\Users\\Admin\\AppData\\Local\\Programs\\Python\\Python312\\Lib\\site-packages\\statsmodels\\tsa\\base\\tsa_model.py:473: ValueWarning: No frequency information was provided, so inferred frequency MS will be used.\n",
      "  self._init_dates(dates, freq)\n",
      "c:\\Users\\Admin\\AppData\\Local\\Programs\\Python\\Python312\\Lib\\site-packages\\statsmodels\\tsa\\base\\tsa_model.py:473: ValueWarning: No frequency information was provided, so inferred frequency MS will be used.\n",
      "  self._init_dates(dates, freq)\n",
      "c:\\Users\\Admin\\AppData\\Local\\Programs\\Python\\Python312\\Lib\\site-packages\\statsmodels\\tsa\\base\\tsa_model.py:473: ValueWarning: No frequency information was provided, so inferred frequency MS will be used.\n",
      "  self._init_dates(dates, freq)\n",
      "C:\\Users\\Admin\\AppData\\Local\\Temp\\ipykernel_29992\\3273834281.py:10: FutureWarning: Series.__getitem__ treating keys as positions is deprecated. In a future version, integer keys will always be treated as labels (consistent with DataFrame behavior). To access a value by position, use `ser.iloc[pos]`\n",
      "  print(f\"Прогноз Count (MA1): {forecast[0]:.2f}\")\n"
     ]
    }
   ],
   "source": [
    "#нестационарный\n",
    "plot_acf(df['Count'].dropna(), lags=20)\n",
    "plt.show()\n",
    "\n",
    "model_ma1 = ARIMA(df['Count'], order=(0,0,1))  \n",
    "results_ma1 = model_ma1.fit()\n",
    "print(results_ma1.summary())\n",
    "\n",
    "forecast = results_ma1.forecast(steps=1)\n",
    "print(f\"Прогноз Count (MA1): {forecast[0]:.2f}\")"
   ]
  },
  {
   "cell_type": "code",
   "execution_count": null,
   "id": "296719b8",
   "metadata": {},
   "outputs": [
    {
     "data": {
      "image/png": "[encoded data removed]",
      "text/plain": [
       "<Figure size 640x480 with 1 Axes>"
      ]
     },
     "metadata": {},
     "output_type": "display_data"
    },
    {
     "name": "stdout",
     "output_type": "stream",
     "text": [
      "                               SARIMAX Results                                \n",
      "==============================================================================\n",
      "Dep. Variable:         diff_log_count   No. Observations:                  117\n",
      "Model:                 ARIMA(0, 0, 1)   Log Likelihood                  24.367\n",
      "Date:                Mon, 04 Aug 2025   AIC                            -42.734\n",
      "Time:                        15:37:11   BIC                            -34.447\n",
      "Sample:                    02-01-1966   HQIC                           -39.369\n",
      "                         - 10-01-1975                                         \n",
      "Covariance Type:                  opg                                         \n",
      "==============================================================================\n",
      "                 coef    std err          z      P>|z|      [0.025      0.975]\n",
      "------------------------------------------------------------------------------\n",
      "const          0.0201      0.011      1.882      0.060      -0.001       0.041\n",
      "ma.L1         -0.4148      0.086     -4.849      0.000      -0.583      -0.247\n",
      "sigma2         0.0385      0.005      7.535      0.000       0.029       0.049\n",
      "===================================================================================\n",
      "Ljung-Box (L1) (Q):                   0.84   Jarque-Bera (JB):                 0.03\n",
      "Prob(Q):                              0.36   Prob(JB):                         0.99\n",
      "Heteroskedasticity (H):               0.48   Skew:                            -0.04\n",
      "Prob(H) (two-sided):                  0.02   Kurtosis:                         2.99\n",
      "===================================================================================\n",
      "\n",
      "Warnings:\n",
      "[1] Covariance matrix calculated using the outer product of gradients (complex-step).\n",
      "Прогноз diff_log_count (MA1): 0.0135\n"
     ]
    },
    {
     "name": "stderr",
     "output_type": "stream",
     "text": [
      "c:\\Users\\Admin\\AppData\\Local\\Programs\\Python\\Python312\\Lib\\site-packages\\statsmodels\\tsa\\base\\tsa_model.py:473: ValueWarning: No frequency information was provided, so inferred frequency MS will be used.\n",
      "  self._init_dates(dates, freq)\n",
      "c:\\Users\\Admin\\AppData\\Local\\Programs\\Python\\Python312\\Lib\\site-packages\\statsmodels\\tsa\\base\\tsa_model.py:473: ValueWarning: No frequency information was provided, so inferred frequency MS will be used.\n",
      "  self._init_dates(dates, freq)\n",
      "c:\\Users\\Admin\\AppData\\Local\\Programs\\Python\\Python312\\Lib\\site-packages\\statsmodels\\tsa\\base\\tsa_model.py:473: ValueWarning: No frequency information was provided, so inferred frequency MS will be used.\n",
      "  self._init_dates(dates, freq)\n",
      "C:\\Users\\Admin\\AppData\\Local\\Temp\\ipykernel_29992\\2165030745.py:12: FutureWarning: Series.__getitem__ treating keys as positions is deprecated. In a future version, integer keys will always be treated as labels (consistent with DataFrame behavior). To access a value by position, use `ser.iloc[pos]`\n",
      "  print(f\"Прогноз diff_log_count (MA1): {forecast_stationary[0]:.4f}\")\n"
     ]
    }
   ],
   "source": [
    "#стационарный \n",
    "plot_acf(df['diff_log_count'].dropna(), lags=20)\n",
    "plt.show()\n",
    "\n",
    "model_ma1_stationary = ARIMA(df['diff_log_count'].dropna(), order=(0,0,1))\n",
    "results_ma1_stationary = model_ma1_stationary.fit()\n",
    "print(results_ma1_stationary.summary())\n",
    "\n",
    "forecast_stationary = results_ma1_stationary.forecast(steps=1)\n",
    "print(f\"Прогноз diff_log_count (MA1): {forecast_stationary[0]:.4f}\")"
   ]
  },
  {
   "cell_type": "markdown",
   "id": "4afddf8f",
   "metadata": {},
   "source": [
    "Думаю, стационарные ряды лучше так как имеют постоянные статистические свойства, прогнозы будут отклоняться из-за изменения уровня ряда, методы предполагают стационарность сами по себе"
   ]
  },
  {
   "cell_type": "markdown",
   "id": "f481da97",
   "metadata": {},
   "source": []
  }
 ],
 "metadata": {
  "kernelspec": {
   "display_name": "Python 3",
   "language": "python",
   "name": "python3"
  },
  "language_info": {
   "codemirror_mode": {
    "name": "ipython",
    "version": 3
   },
   "file_extension": ".py",
   "mimetype": "text/x-python",
   "name": "python",
   "nbconvert_exporter": "python",
   "pygments_lexer": "ipython3",
   "version": "3.12.1"
  }
 },
 "nbformat": 4,
 "nbformat_minor": 5
}
